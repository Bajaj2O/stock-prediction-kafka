{
 "cells": [
  {
   "cell_type": "code",
   "execution_count": null,
   "id": "c5d37749",
   "metadata": {},
   "outputs": [],
   "source": [
    "import sys\n",
    "!{sys.executable} -m pip install python-dotenv\n"
   ]
  },
  {
   "cell_type": "code",
   "execution_count": 40,
   "id": "18632949",
   "metadata": {},
   "outputs": [],
   "source": [
    "\n",
    "from dotenv import load_dotenv\n",
    "import os\n",
    "\n",
    "load_dotenv()  # Load .env into environment\n",
    "\n",
    "broker = os.getenv(\"KAFKA_BROKER\")\n",
    "topic = os.getenv(\"TOPIC_NAME\")\n",
    "bucket = os.getenv(\"S3_BUCKET\")\n",
    "s3_path = f\"s3://{bucket}/stock-data.json\""
   ]
  },
  {
   "cell_type": "code",
   "execution_count": null,
   "id": "9b725708",
   "metadata": {},
   "outputs": [],
   "source": [
    "import sys\n",
    "!{sys.executable} -m pip install s3fs\n",
    "from s3fs import S3FileSystem"
   ]
  },
  {
   "cell_type": "code",
   "execution_count": 42,
   "id": "f4fc1288",
   "metadata": {},
   "outputs": [],
   "source": [
    "import pandas as pd\n",
    "from kafka import KafkaConsumer , KafkaProducer\n",
    "from time import sleep\n",
    "from json import loads\n",
    "import json"
   ]
  },
  {
   "cell_type": "code",
   "execution_count": 43,
   "id": "12bbd8a6",
   "metadata": {},
   "outputs": [],
   "source": [
    "consumer  = KafkaConsumer(topic,bootstrap_servers = [broker],value_deserializer = lambda x: loads(x.decode('utf-8')))"
   ]
  },
  {
   "cell_type": "code",
   "execution_count": 44,
   "id": "fd6192a1",
   "metadata": {},
   "outputs": [],
   "source": [
    "s3 = S3FileSystem()"
   ]
  },
  {
   "cell_type": "code",
   "execution_count": null,
   "id": "3a7b3be0",
   "metadata": {},
   "outputs": [],
   "source": [
    "for count , i in enumerate(consumer):\n",
    "    s3_path = f\"s3://{bucket}/stock-data-{count}.json\"\n",
    "    with s3.open(s3_path,'w') as file:\n",
    "        json.dump(i.value, file)\n",
    "        \n",
    "\n",
    "    \n",
    "    "
   ]
  }
 ],
 "metadata": {
  "kernelspec": {
   "display_name": "Python 3",
   "language": "python",
   "name": "python3"
  },
  "language_info": {
   "codemirror_mode": {
    "name": "ipython",
    "version": 3
   },
   "file_extension": ".py",
   "mimetype": "text/x-python",
   "name": "python",
   "nbconvert_exporter": "python",
   "pygments_lexer": "ipython3",
   "version": "3.10.0"
  }
 },
 "nbformat": 4,
 "nbformat_minor": 5
}
